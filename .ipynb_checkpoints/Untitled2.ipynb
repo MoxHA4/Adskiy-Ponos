{
  "nbformat": 4,
  "nbformat_minor": 0,
  "metadata": {
    "colab": {
      "provenance": [],
      "authorship_tag": "ABX9TyPo9CZBdR8XHUQkSJtOwXRG",
      "include_colab_link": true
    },
    "kernelspec": {
      "name": "python3",
      "display_name": "Python 3"
    },
    "language_info": {
      "name": "python"
    }
  },
  "cells": [
    {
      "cell_type": "markdown",
      "metadata": {
        "id": "view-in-github",
        "colab_type": "text"
      },
      "source": [
        "<a href=\"https://colab.research.google.com/github/MoxHA4/Adskiy-Ponos/blob/main/.ipynb_checkpoints/Untitled2.ipynb\" target=\"_parent\"><img src=\"https://colab.research.google.com/assets/colab-badge.svg\" alt=\"Open In Colab\"/></a>"
      ]
    },
    {
      "cell_type": "markdown",
      "source": [
        "Imports and constants"
      ],
      "metadata": {
        "id": "hqAS4FSsn4lN"
      }
    },
    {
      "cell_type": "code",
      "source": [
        "import numpy as np\n",
        "import matplotlib.pyplot as plt\n",
        "from matplotlib.pyplot import gca as gca\n",
        "from matplotlib.pyplot import grid as grid\n",
        "import math\n",
        "G = 6.673 * 1e-11\n",
        "M = 5.972 * 1e24\n",
        "radius = 6371000\n",
        "ISS_height = 437*1e3\n",
        "ISS_velocity = 7654\n",
        "ISS_time = 90*60\n",
        "Oz = [0, 0, 1]"
      ],
      "metadata": {
        "id": "6YTuYge_oM4p"
      },
      "execution_count": null,
      "outputs": []
    },
    {
      "cell_type": "markdown",
      "source": [
        "Initialize params"
      ],
      "metadata": {
        "id": "a3lck2hBoOsW"
      }
    },
    {
      "cell_type": "code",
      "source": [
        "North = -43.07 * math.pi/180\n",
        "East = -61.50  * math.pi/180\n",
        "init_pos = [math.cos(North)*math.cos(East),\n",
        "            math.cos(North)*math.sin(East),\n",
        "            math.sin(North)]\n",
        "orbit_norm = get_orbit_n(init_pos, false);\n",
        "tau = cross(orbit_norm, init_pos);\n",
        "\n",
        "r0 = init_pos*(radius + ISS_height);\n",
        "v0 = tau * ISS_velocity;\n",
        "\n",
        "tspan = linspace(0, 1*ISS_time, 1e5);\n",
        "x0 = [r0; v0];\n",
        "odefun = @(t, x) [x(4:6); -G*M*x(1:3) / ((norm(x(1:3)))^3)];\n",
        "% f = G*M*r / ((norm(r))^3);\n",
        "\n",
        "opts = odeset('Reltol',1e-13,'AbsTol',1e-14,'Stats','on');\n",
        "\n",
        "[t, x] = ode45(odefun,tspan,x0, opts);\n",
        "trajectory = x(:, 1:3);\n",
        "\n",
        "trajectory_corrected = zeros(size(trajectory));"
      ],
      "metadata": {
        "id": "BUn0kvf5oRLN"
      },
      "execution_count": null,
      "outputs": []
    }
  ]
}